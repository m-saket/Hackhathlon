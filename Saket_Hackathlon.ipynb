{
 "cells": [
  {
   "cell_type": "code",
   "execution_count": 37,
   "id": "56de6474",
   "metadata": {},
   "outputs": [],
   "source": [
    "import pandas as pd\n",
    "import numpy as np\n",
    "from sklearn.model_selection import train_test_split\n",
    "from sklearn.preprocessing import StandardScaler, OneHotEncoder\n",
    "from sklearn.compose import ColumnTransformer\n",
    "from sklearn.pipeline import Pipeline\n",
    "from sklearn.multioutput import MultiOutputClassifier\n",
    "from xgboost import XGBClassifier\n",
    "from sklearn.metrics import roc_auc_score, roc_curve, auc\n",
    "import matplotlib.pyplot as plt\n",
    "from sklearn.impute import SimpleImputer"
   ]
  },
  {
   "cell_type": "code",
   "execution_count": 38,
   "id": "738f61c6",
   "metadata": {},
   "outputs": [],
   "source": [
    "# Load the training data\n",
    "train_data = pd.read_csv('training_set_features.csv')"
   ]
  },
  {
   "cell_type": "code",
   "execution_count": 39,
   "id": "e1075eeb",
   "metadata": {},
   "outputs": [],
   "source": [
    "# Load the test data\n",
    "test_data = pd.read_csv('test_set_features.csv')"
   ]
  },
  {
   "cell_type": "code",
   "execution_count": 40,
   "id": "3437d1ee",
   "metadata": {},
   "outputs": [],
   "source": [
    "df2=pd.read_csv('training_set_labels.csv')"
   ]
  },
  {
   "cell_type": "code",
   "execution_count": 41,
   "id": "4336ed46",
   "metadata": {},
   "outputs": [],
   "source": [
    "train_data['xyz_vaccine']=df2['xyz_vaccine']\n",
    "train_data['seasonal_vaccine']=df2['seasonal_vaccine']"
   ]
  },
  {
   "cell_type": "code",
   "execution_count": 42,
   "id": "0a36dd9d",
   "metadata": {},
   "outputs": [],
   "source": [
    "# Separate features and targets in training data\n",
    "X_train = train_data.drop(columns=['respondent_id', 'xyz_vaccine', 'seasonal_vaccine'])\n",
    "y_train = train_data[['xyz_vaccine', 'seasonal_vaccine']]"
   ]
  },
  {
   "cell_type": "code",
   "execution_count": 43,
   "id": "9864e745",
   "metadata": {},
   "outputs": [],
   "source": [
    "# Features for test data\n",
    "X_test = test_data.drop(columns=['respondent_id'])"
   ]
  },
  {
   "cell_type": "code",
   "execution_count": 44,
   "id": "a98804a6",
   "metadata": {},
   "outputs": [
    {
     "name": "stdout",
     "output_type": "stream",
     "text": [
      "['age_group', 'education', 'race', 'sex', 'income_poverty', 'marital_status', 'rent_or_own', 'employment_status', 'hhs_geo_region', 'census_msa', 'employment_industry', 'employment_occupation']\n",
      "['xyz_concern', 'xyz_knowledge', 'behavioral_antiviral_meds', 'behavioral_avoidance', 'behavioral_face_mask', 'behavioral_wash_hands', 'behavioral_large_gatherings', 'behavioral_outside_home', 'behavioral_touch_face', 'doctor_recc_xyz', 'doctor_recc_seasonal', 'chronic_med_condition', 'child_under_6_months', 'health_worker', 'health_insurance', 'opinion_xyz_vacc_effective', 'opinion_xyz_risk', 'opinion_xyz_sick_from_vacc', 'opinion_seas_vacc_effective', 'opinion_seas_risk', 'opinion_seas_sick_from_vacc', 'household_adults', 'household_children']\n"
     ]
    }
   ],
   "source": [
    "# Preprocessing\n",
    "categorical_features = [col for col in X_train.columns if X_train[col].dtype == 'object']\n",
    "numerical_features = [col for col in X_train.columns if X_train[col].dtype in ['int64', 'float64']]\n",
    "print(categorical_features)\n",
    "print(numerical_features)"
   ]
  },
  {
   "cell_type": "code",
   "execution_count": 45,
   "id": "26c74215",
   "metadata": {},
   "outputs": [],
   "source": [
    "# Imputation and encoding for numerical features\n",
    "numeric_transformer = Pipeline(steps=[\n",
    "    ('imputer', SimpleImputer(strategy='median')),\n",
    "    ('scaler', StandardScaler())])"
   ]
  },
  {
   "cell_type": "code",
   "execution_count": 46,
   "id": "31e7f4d5",
   "metadata": {},
   "outputs": [],
   "source": [
    "# Imputation and encoding for categorical features\n",
    "categorical_transformer = Pipeline(steps=[\n",
    "    ('imputer', SimpleImputer(strategy='most_frequent')),\n",
    "    ('onehot', OneHotEncoder(handle_unknown='ignore'))])"
   ]
  },
  {
   "cell_type": "code",
   "execution_count": 47,
   "id": "c63fca20",
   "metadata": {},
   "outputs": [],
   "source": [
    "# Combine preprocessing steps\n",
    "preprocessor = ColumnTransformer(\n",
    "    transformers=[\n",
    "        ('num', numeric_transformer, numerical_features),\n",
    "        ('cat', categorical_transformer, categorical_features)])"
   ]
  },
  {
   "cell_type": "code",
   "execution_count": 48,
   "id": "45dcc6da",
   "metadata": {},
   "outputs": [],
   "source": [
    "# Model pipeline\n",
    "xgb = XGBClassifier(use_label_encoder=False, eval_metric='logloss', n_jobs=-1, random_state=42)\n",
    "model = Pipeline(steps=[\n",
    "    ('preprocessor', preprocessor),\n",
    "    ('classifier', MultiOutputClassifier(xgb))\n",
    "])"
   ]
  },
  {
   "cell_type": "code",
   "execution_count": 49,
   "id": "213d30fc",
   "metadata": {},
   "outputs": [
    {
     "data": {
      "text/html": [
       "<style>#sk-container-id-3 {color: black;}#sk-container-id-3 pre{padding: 0;}#sk-container-id-3 div.sk-toggleable {background-color: white;}#sk-container-id-3 label.sk-toggleable__label {cursor: pointer;display: block;width: 100%;margin-bottom: 0;padding: 0.3em;box-sizing: border-box;text-align: center;}#sk-container-id-3 label.sk-toggleable__label-arrow:before {content: \"▸\";float: left;margin-right: 0.25em;color: #696969;}#sk-container-id-3 label.sk-toggleable__label-arrow:hover:before {color: black;}#sk-container-id-3 div.sk-estimator:hover label.sk-toggleable__label-arrow:before {color: black;}#sk-container-id-3 div.sk-toggleable__content {max-height: 0;max-width: 0;overflow: hidden;text-align: left;background-color: #f0f8ff;}#sk-container-id-3 div.sk-toggleable__content pre {margin: 0.2em;color: black;border-radius: 0.25em;background-color: #f0f8ff;}#sk-container-id-3 input.sk-toggleable__control:checked~div.sk-toggleable__content {max-height: 200px;max-width: 100%;overflow: auto;}#sk-container-id-3 input.sk-toggleable__control:checked~label.sk-toggleable__label-arrow:before {content: \"▾\";}#sk-container-id-3 div.sk-estimator input.sk-toggleable__control:checked~label.sk-toggleable__label {background-color: #d4ebff;}#sk-container-id-3 div.sk-label input.sk-toggleable__control:checked~label.sk-toggleable__label {background-color: #d4ebff;}#sk-container-id-3 input.sk-hidden--visually {border: 0;clip: rect(1px 1px 1px 1px);clip: rect(1px, 1px, 1px, 1px);height: 1px;margin: -1px;overflow: hidden;padding: 0;position: absolute;width: 1px;}#sk-container-id-3 div.sk-estimator {font-family: monospace;background-color: #f0f8ff;border: 1px dotted black;border-radius: 0.25em;box-sizing: border-box;margin-bottom: 0.5em;}#sk-container-id-3 div.sk-estimator:hover {background-color: #d4ebff;}#sk-container-id-3 div.sk-parallel-item::after {content: \"\";width: 100%;border-bottom: 1px solid gray;flex-grow: 1;}#sk-container-id-3 div.sk-label:hover label.sk-toggleable__label {background-color: #d4ebff;}#sk-container-id-3 div.sk-serial::before {content: \"\";position: absolute;border-left: 1px solid gray;box-sizing: border-box;top: 0;bottom: 0;left: 50%;z-index: 0;}#sk-container-id-3 div.sk-serial {display: flex;flex-direction: column;align-items: center;background-color: white;padding-right: 0.2em;padding-left: 0.2em;position: relative;}#sk-container-id-3 div.sk-item {position: relative;z-index: 1;}#sk-container-id-3 div.sk-parallel {display: flex;align-items: stretch;justify-content: center;background-color: white;position: relative;}#sk-container-id-3 div.sk-item::before, #sk-container-id-3 div.sk-parallel-item::before {content: \"\";position: absolute;border-left: 1px solid gray;box-sizing: border-box;top: 0;bottom: 0;left: 50%;z-index: -1;}#sk-container-id-3 div.sk-parallel-item {display: flex;flex-direction: column;z-index: 1;position: relative;background-color: white;}#sk-container-id-3 div.sk-parallel-item:first-child::after {align-self: flex-end;width: 50%;}#sk-container-id-3 div.sk-parallel-item:last-child::after {align-self: flex-start;width: 50%;}#sk-container-id-3 div.sk-parallel-item:only-child::after {width: 0;}#sk-container-id-3 div.sk-dashed-wrapped {border: 1px dashed gray;margin: 0 0.4em 0.5em 0.4em;box-sizing: border-box;padding-bottom: 0.4em;background-color: white;}#sk-container-id-3 div.sk-label label {font-family: monospace;font-weight: bold;display: inline-block;line-height: 1.2em;}#sk-container-id-3 div.sk-label-container {text-align: center;}#sk-container-id-3 div.sk-container {/* jupyter's `normalize.less` sets `[hidden] { display: none; }` but bootstrap.min.css set `[hidden] { display: none !important; }` so we also need the `!important` here to be able to override the default hidden behavior on the sphinx rendered scikit-learn.org. See: https://github.com/scikit-learn/scikit-learn/issues/21755 */display: inline-block !important;position: relative;}#sk-container-id-3 div.sk-text-repr-fallback {display: none;}</style><div id=\"sk-container-id-3\" class=\"sk-top-container\"><div class=\"sk-text-repr-fallback\"><pre>Pipeline(steps=[(&#x27;preprocessor&#x27;,\n",
       "                 ColumnTransformer(transformers=[(&#x27;num&#x27;,\n",
       "                                                  Pipeline(steps=[(&#x27;imputer&#x27;,\n",
       "                                                                   SimpleImputer(strategy=&#x27;median&#x27;)),\n",
       "                                                                  (&#x27;scaler&#x27;,\n",
       "                                                                   StandardScaler())]),\n",
       "                                                  [&#x27;xyz_concern&#x27;,\n",
       "                                                   &#x27;xyz_knowledge&#x27;,\n",
       "                                                   &#x27;behavioral_antiviral_meds&#x27;,\n",
       "                                                   &#x27;behavioral_avoidance&#x27;,\n",
       "                                                   &#x27;behavioral_face_mask&#x27;,\n",
       "                                                   &#x27;behavioral_wash_hands&#x27;,\n",
       "                                                   &#x27;behavioral_large_gatherings&#x27;,\n",
       "                                                   &#x27;behavioral_outside_home&#x27;,\n",
       "                                                   &#x27;be...\n",
       "                                                               grow_policy=None,\n",
       "                                                               importance_type=None,\n",
       "                                                               interaction_constraints=None,\n",
       "                                                               learning_rate=None,\n",
       "                                                               max_bin=None,\n",
       "                                                               max_cat_threshold=None,\n",
       "                                                               max_cat_to_onehot=None,\n",
       "                                                               max_delta_step=None,\n",
       "                                                               max_depth=None,\n",
       "                                                               max_leaves=None,\n",
       "                                                               min_child_weight=None,\n",
       "                                                               missing=nan,\n",
       "                                                               monotone_constraints=None,\n",
       "                                                               multi_strategy=None,\n",
       "                                                               n_estimators=None,\n",
       "                                                               n_jobs=-1,\n",
       "                                                               num_parallel_tree=None,\n",
       "                                                               random_state=42, ...)))])</pre><b>In a Jupyter environment, please rerun this cell to show the HTML representation or trust the notebook. <br />On GitHub, the HTML representation is unable to render, please try loading this page with nbviewer.org.</b></div><div class=\"sk-container\" hidden><div class=\"sk-item sk-dashed-wrapped\"><div class=\"sk-label-container\"><div class=\"sk-label sk-toggleable\"><input class=\"sk-toggleable__control sk-hidden--visually\" id=\"sk-estimator-id-23\" type=\"checkbox\" ><label for=\"sk-estimator-id-23\" class=\"sk-toggleable__label sk-toggleable__label-arrow\">Pipeline</label><div class=\"sk-toggleable__content\"><pre>Pipeline(steps=[(&#x27;preprocessor&#x27;,\n",
       "                 ColumnTransformer(transformers=[(&#x27;num&#x27;,\n",
       "                                                  Pipeline(steps=[(&#x27;imputer&#x27;,\n",
       "                                                                   SimpleImputer(strategy=&#x27;median&#x27;)),\n",
       "                                                                  (&#x27;scaler&#x27;,\n",
       "                                                                   StandardScaler())]),\n",
       "                                                  [&#x27;xyz_concern&#x27;,\n",
       "                                                   &#x27;xyz_knowledge&#x27;,\n",
       "                                                   &#x27;behavioral_antiviral_meds&#x27;,\n",
       "                                                   &#x27;behavioral_avoidance&#x27;,\n",
       "                                                   &#x27;behavioral_face_mask&#x27;,\n",
       "                                                   &#x27;behavioral_wash_hands&#x27;,\n",
       "                                                   &#x27;behavioral_large_gatherings&#x27;,\n",
       "                                                   &#x27;behavioral_outside_home&#x27;,\n",
       "                                                   &#x27;be...\n",
       "                                                               grow_policy=None,\n",
       "                                                               importance_type=None,\n",
       "                                                               interaction_constraints=None,\n",
       "                                                               learning_rate=None,\n",
       "                                                               max_bin=None,\n",
       "                                                               max_cat_threshold=None,\n",
       "                                                               max_cat_to_onehot=None,\n",
       "                                                               max_delta_step=None,\n",
       "                                                               max_depth=None,\n",
       "                                                               max_leaves=None,\n",
       "                                                               min_child_weight=None,\n",
       "                                                               missing=nan,\n",
       "                                                               monotone_constraints=None,\n",
       "                                                               multi_strategy=None,\n",
       "                                                               n_estimators=None,\n",
       "                                                               n_jobs=-1,\n",
       "                                                               num_parallel_tree=None,\n",
       "                                                               random_state=42, ...)))])</pre></div></div></div><div class=\"sk-serial\"><div class=\"sk-item sk-dashed-wrapped\"><div class=\"sk-label-container\"><div class=\"sk-label sk-toggleable\"><input class=\"sk-toggleable__control sk-hidden--visually\" id=\"sk-estimator-id-24\" type=\"checkbox\" ><label for=\"sk-estimator-id-24\" class=\"sk-toggleable__label sk-toggleable__label-arrow\">preprocessor: ColumnTransformer</label><div class=\"sk-toggleable__content\"><pre>ColumnTransformer(transformers=[(&#x27;num&#x27;,\n",
       "                                 Pipeline(steps=[(&#x27;imputer&#x27;,\n",
       "                                                  SimpleImputer(strategy=&#x27;median&#x27;)),\n",
       "                                                 (&#x27;scaler&#x27;, StandardScaler())]),\n",
       "                                 [&#x27;xyz_concern&#x27;, &#x27;xyz_knowledge&#x27;,\n",
       "                                  &#x27;behavioral_antiviral_meds&#x27;,\n",
       "                                  &#x27;behavioral_avoidance&#x27;,\n",
       "                                  &#x27;behavioral_face_mask&#x27;,\n",
       "                                  &#x27;behavioral_wash_hands&#x27;,\n",
       "                                  &#x27;behavioral_large_gatherings&#x27;,\n",
       "                                  &#x27;behavioral_outside_home&#x27;,\n",
       "                                  &#x27;behavioral_touch_face&#x27;, &#x27;doctor_rec...\n",
       "                                  &#x27;household_adults&#x27;, &#x27;household_children&#x27;]),\n",
       "                                (&#x27;cat&#x27;,\n",
       "                                 Pipeline(steps=[(&#x27;imputer&#x27;,\n",
       "                                                  SimpleImputer(strategy=&#x27;most_frequent&#x27;)),\n",
       "                                                 (&#x27;onehot&#x27;,\n",
       "                                                  OneHotEncoder(handle_unknown=&#x27;ignore&#x27;))]),\n",
       "                                 [&#x27;age_group&#x27;, &#x27;education&#x27;, &#x27;race&#x27;, &#x27;sex&#x27;,\n",
       "                                  &#x27;income_poverty&#x27;, &#x27;marital_status&#x27;,\n",
       "                                  &#x27;rent_or_own&#x27;, &#x27;employment_status&#x27;,\n",
       "                                  &#x27;hhs_geo_region&#x27;, &#x27;census_msa&#x27;,\n",
       "                                  &#x27;employment_industry&#x27;,\n",
       "                                  &#x27;employment_occupation&#x27;])])</pre></div></div></div><div class=\"sk-parallel\"><div class=\"sk-parallel-item\"><div class=\"sk-item\"><div class=\"sk-label-container\"><div class=\"sk-label sk-toggleable\"><input class=\"sk-toggleable__control sk-hidden--visually\" id=\"sk-estimator-id-25\" type=\"checkbox\" ><label for=\"sk-estimator-id-25\" class=\"sk-toggleable__label sk-toggleable__label-arrow\">num</label><div class=\"sk-toggleable__content\"><pre>[&#x27;xyz_concern&#x27;, &#x27;xyz_knowledge&#x27;, &#x27;behavioral_antiviral_meds&#x27;, &#x27;behavioral_avoidance&#x27;, &#x27;behavioral_face_mask&#x27;, &#x27;behavioral_wash_hands&#x27;, &#x27;behavioral_large_gatherings&#x27;, &#x27;behavioral_outside_home&#x27;, &#x27;behavioral_touch_face&#x27;, &#x27;doctor_recc_xyz&#x27;, &#x27;doctor_recc_seasonal&#x27;, &#x27;chronic_med_condition&#x27;, &#x27;child_under_6_months&#x27;, &#x27;health_worker&#x27;, &#x27;health_insurance&#x27;, &#x27;opinion_xyz_vacc_effective&#x27;, &#x27;opinion_xyz_risk&#x27;, &#x27;opinion_xyz_sick_from_vacc&#x27;, &#x27;opinion_seas_vacc_effective&#x27;, &#x27;opinion_seas_risk&#x27;, &#x27;opinion_seas_sick_from_vacc&#x27;, &#x27;household_adults&#x27;, &#x27;household_children&#x27;]</pre></div></div></div><div class=\"sk-serial\"><div class=\"sk-item\"><div class=\"sk-serial\"><div class=\"sk-item\"><div class=\"sk-estimator sk-toggleable\"><input class=\"sk-toggleable__control sk-hidden--visually\" id=\"sk-estimator-id-26\" type=\"checkbox\" ><label for=\"sk-estimator-id-26\" class=\"sk-toggleable__label sk-toggleable__label-arrow\">SimpleImputer</label><div class=\"sk-toggleable__content\"><pre>SimpleImputer(strategy=&#x27;median&#x27;)</pre></div></div></div><div class=\"sk-item\"><div class=\"sk-estimator sk-toggleable\"><input class=\"sk-toggleable__control sk-hidden--visually\" id=\"sk-estimator-id-27\" type=\"checkbox\" ><label for=\"sk-estimator-id-27\" class=\"sk-toggleable__label sk-toggleable__label-arrow\">StandardScaler</label><div class=\"sk-toggleable__content\"><pre>StandardScaler()</pre></div></div></div></div></div></div></div></div><div class=\"sk-parallel-item\"><div class=\"sk-item\"><div class=\"sk-label-container\"><div class=\"sk-label sk-toggleable\"><input class=\"sk-toggleable__control sk-hidden--visually\" id=\"sk-estimator-id-28\" type=\"checkbox\" ><label for=\"sk-estimator-id-28\" class=\"sk-toggleable__label sk-toggleable__label-arrow\">cat</label><div class=\"sk-toggleable__content\"><pre>[&#x27;age_group&#x27;, &#x27;education&#x27;, &#x27;race&#x27;, &#x27;sex&#x27;, &#x27;income_poverty&#x27;, &#x27;marital_status&#x27;, &#x27;rent_or_own&#x27;, &#x27;employment_status&#x27;, &#x27;hhs_geo_region&#x27;, &#x27;census_msa&#x27;, &#x27;employment_industry&#x27;, &#x27;employment_occupation&#x27;]</pre></div></div></div><div class=\"sk-serial\"><div class=\"sk-item\"><div class=\"sk-serial\"><div class=\"sk-item\"><div class=\"sk-estimator sk-toggleable\"><input class=\"sk-toggleable__control sk-hidden--visually\" id=\"sk-estimator-id-29\" type=\"checkbox\" ><label for=\"sk-estimator-id-29\" class=\"sk-toggleable__label sk-toggleable__label-arrow\">SimpleImputer</label><div class=\"sk-toggleable__content\"><pre>SimpleImputer(strategy=&#x27;most_frequent&#x27;)</pre></div></div></div><div class=\"sk-item\"><div class=\"sk-estimator sk-toggleable\"><input class=\"sk-toggleable__control sk-hidden--visually\" id=\"sk-estimator-id-30\" type=\"checkbox\" ><label for=\"sk-estimator-id-30\" class=\"sk-toggleable__label sk-toggleable__label-arrow\">OneHotEncoder</label><div class=\"sk-toggleable__content\"><pre>OneHotEncoder(handle_unknown=&#x27;ignore&#x27;)</pre></div></div></div></div></div></div></div></div></div></div><div class=\"sk-item sk-dashed-wrapped\"><div class=\"sk-label-container\"><div class=\"sk-label sk-toggleable\"><input class=\"sk-toggleable__control sk-hidden--visually\" id=\"sk-estimator-id-31\" type=\"checkbox\" ><label for=\"sk-estimator-id-31\" class=\"sk-toggleable__label sk-toggleable__label-arrow\">classifier: MultiOutputClassifier</label><div class=\"sk-toggleable__content\"><pre>MultiOutputClassifier(estimator=XGBClassifier(base_score=None, booster=None,\n",
       "                                              callbacks=None,\n",
       "                                              colsample_bylevel=None,\n",
       "                                              colsample_bynode=None,\n",
       "                                              colsample_bytree=None,\n",
       "                                              device=None,\n",
       "                                              early_stopping_rounds=None,\n",
       "                                              enable_categorical=False,\n",
       "                                              eval_metric=&#x27;logloss&#x27;,\n",
       "                                              feature_types=None, gamma=None,\n",
       "                                              grow_policy=None,\n",
       "                                              importance_type=None,\n",
       "                                              interaction_constraints=None,\n",
       "                                              learning_rate=None, max_bin=None,\n",
       "                                              max_cat_threshold=None,\n",
       "                                              max_cat_to_onehot=None,\n",
       "                                              max_delta_step=None,\n",
       "                                              max_depth=None, max_leaves=None,\n",
       "                                              min_child_weight=None,\n",
       "                                              missing=nan,\n",
       "                                              monotone_constraints=None,\n",
       "                                              multi_strategy=None,\n",
       "                                              n_estimators=None, n_jobs=-1,\n",
       "                                              num_parallel_tree=None,\n",
       "                                              random_state=42, ...))</pre></div></div></div><div class=\"sk-parallel\"><div class=\"sk-parallel-item\"><div class=\"sk-item\"><div class=\"sk-label-container\"><div class=\"sk-label sk-toggleable\"><input class=\"sk-toggleable__control sk-hidden--visually\" id=\"sk-estimator-id-32\" type=\"checkbox\" ><label for=\"sk-estimator-id-32\" class=\"sk-toggleable__label sk-toggleable__label-arrow\">estimator: XGBClassifier</label><div class=\"sk-toggleable__content\"><pre>XGBClassifier(base_score=None, booster=None, callbacks=None,\n",
       "              colsample_bylevel=None, colsample_bynode=None,\n",
       "              colsample_bytree=None, device=None, early_stopping_rounds=None,\n",
       "              enable_categorical=False, eval_metric=&#x27;logloss&#x27;,\n",
       "              feature_types=None, gamma=None, grow_policy=None,\n",
       "              importance_type=None, interaction_constraints=None,\n",
       "              learning_rate=None, max_bin=None, max_cat_threshold=None,\n",
       "              max_cat_to_onehot=None, max_delta_step=None, max_depth=None,\n",
       "              max_leaves=None, min_child_weight=None, missing=nan,\n",
       "              monotone_constraints=None, multi_strategy=None, n_estimators=None,\n",
       "              n_jobs=-1, num_parallel_tree=None, random_state=42, ...)</pre></div></div></div><div class=\"sk-serial\"><div class=\"sk-item\"><div class=\"sk-estimator sk-toggleable\"><input class=\"sk-toggleable__control sk-hidden--visually\" id=\"sk-estimator-id-33\" type=\"checkbox\" ><label for=\"sk-estimator-id-33\" class=\"sk-toggleable__label sk-toggleable__label-arrow\">XGBClassifier</label><div class=\"sk-toggleable__content\"><pre>XGBClassifier(base_score=None, booster=None, callbacks=None,\n",
       "              colsample_bylevel=None, colsample_bynode=None,\n",
       "              colsample_bytree=None, device=None, early_stopping_rounds=None,\n",
       "              enable_categorical=False, eval_metric=&#x27;logloss&#x27;,\n",
       "              feature_types=None, gamma=None, grow_policy=None,\n",
       "              importance_type=None, interaction_constraints=None,\n",
       "              learning_rate=None, max_bin=None, max_cat_threshold=None,\n",
       "              max_cat_to_onehot=None, max_delta_step=None, max_depth=None,\n",
       "              max_leaves=None, min_child_weight=None, missing=nan,\n",
       "              monotone_constraints=None, multi_strategy=None, n_estimators=None,\n",
       "              n_jobs=-1, num_parallel_tree=None, random_state=42, ...)</pre></div></div></div></div></div></div></div></div></div></div></div></div>"
      ],
      "text/plain": [
       "Pipeline(steps=[('preprocessor',\n",
       "                 ColumnTransformer(transformers=[('num',\n",
       "                                                  Pipeline(steps=[('imputer',\n",
       "                                                                   SimpleImputer(strategy='median')),\n",
       "                                                                  ('scaler',\n",
       "                                                                   StandardScaler())]),\n",
       "                                                  ['xyz_concern',\n",
       "                                                   'xyz_knowledge',\n",
       "                                                   'behavioral_antiviral_meds',\n",
       "                                                   'behavioral_avoidance',\n",
       "                                                   'behavioral_face_mask',\n",
       "                                                   'behavioral_wash_hands',\n",
       "                                                   'behavioral_large_gatherings',\n",
       "                                                   'behavioral_outside_home',\n",
       "                                                   'be...\n",
       "                                                               grow_policy=None,\n",
       "                                                               importance_type=None,\n",
       "                                                               interaction_constraints=None,\n",
       "                                                               learning_rate=None,\n",
       "                                                               max_bin=None,\n",
       "                                                               max_cat_threshold=None,\n",
       "                                                               max_cat_to_onehot=None,\n",
       "                                                               max_delta_step=None,\n",
       "                                                               max_depth=None,\n",
       "                                                               max_leaves=None,\n",
       "                                                               min_child_weight=None,\n",
       "                                                               missing=nan,\n",
       "                                                               monotone_constraints=None,\n",
       "                                                               multi_strategy=None,\n",
       "                                                               n_estimators=None,\n",
       "                                                               n_jobs=-1,\n",
       "                                                               num_parallel_tree=None,\n",
       "                                                               random_state=42, ...)))])"
      ]
     },
     "execution_count": 49,
     "metadata": {},
     "output_type": "execute_result"
    }
   ],
   "source": [
    "# Train the model on the entire training data\n",
    "model.fit(X_train, y_train)"
   ]
  },
  {
   "cell_type": "code",
   "execution_count": 50,
   "id": "447e98d3",
   "metadata": {},
   "outputs": [
    {
     "name": "stdout",
     "output_type": "stream",
     "text": [
      "ROC AUC Score on Validation Data: 0.8367407932489053\n"
     ]
    }
   ],
   "source": [
    "# Example with ROC Curve Plotting\n",
    "X_train_split, X_val_split, y_train_split, y_val_split = train_test_split(X_train, y_train, test_size=0.2, random_state=42)\n",
    "model.fit(X_train_split, y_train_split)\n",
    "\n",
    "y_val_pred_proba = model.predict_proba(X_val_split)\n",
    "y_val_pred_proba_combined = np.column_stack([proba[:, 1] for proba in y_val_pred_proba])\n",
    "\n",
    "roc_auc_val = roc_auc_score(y_val_split, y_val_pred_proba_combined, average='macro')\n",
    "print(f'ROC AUC Score on Validation Data: {roc_auc_val}')"
   ]
  },
  {
   "cell_type": "code",
   "execution_count": 51,
   "id": "f101d3bb",
   "metadata": {},
   "outputs": [],
   "source": [
    "# Generate ROC curves for each label on the validation data\n",
    "fpr_val = {}\n",
    "tpr_val = {}\n",
    "roc_auc_dict_val = {}\n",
    "\n",
    "for i, label in enumerate(['xyz_vaccine', 'seasonal_vaccine']):\n",
    "    fpr_val[label], tpr_val[label], _ = roc_curve(y_val_split.iloc[:, i], y_val_pred_proba_combined[:, i])\n",
    "    roc_auc_dict_val[label] = auc(fpr_val[label], tpr_val[label])"
   ]
  },
  {
   "cell_type": "code",
   "execution_count": 52,
   "id": "8f101d83",
   "metadata": {},
   "outputs": [
    {
     "data": {
      "image/png": "[encoded data removed]",
      "text/plain": [
       "<Figure size 640x480 with 1 Axes>"
      ]
     },
     "metadata": {},
     "output_type": "display_data"
    }
   ],
   "source": [
    "# Plot ROC curves for the validation data\n",
    "plt.figure()\n",
    "\n",
    "for label in ['xyz_vaccine', 'seasonal_vaccine']:\n",
    "    plt.plot(fpr_val[label], tpr_val[label], lw=2, label=f'{label} (AUC = {roc_auc_dict_val[label]:.2f})')\n",
    "\n",
    "plt.plot([0, 1], [0, 1], color='navy', lw=2, linestyle='--')\n",
    "plt.xlim([0.0, 1.0])\n",
    "plt.ylim([0.0, 1.05])\n",
    "plt.xlabel('False Positive Rate')\n",
    "plt.ylabel('True Positive Rate')\n",
    "plt.title('Receiver Operating Characteristic (ROC) Curve - Validation Data')\n",
    "plt.legend(loc=\"lower right\")\n",
    "plt.show()"
   ]
  },
  {
   "cell_type": "code",
   "execution_count": 53,
   "id": "7b3a4186",
   "metadata": {},
   "outputs": [],
   "source": [
    "# Predict on the separate test data\n",
    "y_test_pred_proba_full = model.predict_proba(X_test)\n",
    "test_predictions = pd.DataFrame({\n",
    "    'respondent_id': test_data['respondent_id'],\n",
    "    'xyz_vaccine': y_test_pred_proba_full[0][:, 1],\n",
    "    'seasonal_vaccine': y_test_pred_proba_full[1][:, 1]\n",
    "})"
   ]
  },
  {
   "cell_type": "code",
   "execution_count": 54,
   "id": "5225bc1e",
   "metadata": {},
   "outputs": [],
   "source": [
    "# Save the submission file\n",
    "test_predictions.to_csv('submission.csv', index=False)"
   ]
  },
  {
   "cell_type": "code",
   "execution_count": null,
   "id": "9f3a8fd8",
   "metadata": {},
   "outputs": [],
   "source": []
  }
 ],
 "metadata": {
  "kernelspec": {
   "display_name": "Python 3 (ipykernel)",
   "language": "python",
   "name": "python3"
  },
  "language_info": {
   "codemirror_mode": {
    "name": "ipython",
    "version": 3
   },
   "file_extension": ".py",
   "mimetype": "text/x-python",
   "name": "python",
   "nbconvert_exporter": "python",
   "pygments_lexer": "ipython3",
   "version": "3.11.5"
  }
 },
 "nbformat": 4,
 "nbformat_minor": 5
}
